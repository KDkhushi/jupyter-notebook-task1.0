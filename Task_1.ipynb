{
 "cells": [
  {
   "cell_type": "code",
   "execution_count": 1,
   "id": "cf43abad-bcd0-469b-a059-9a07b5fbe57f",
   "metadata": {},
   "outputs": [],
   "source": [
    "import os\n",
    "import pandas as pd"
   ]
  },
  {
   "cell_type": "code",
   "execution_count": 24,
   "id": "809f40d1-be13-422b-a6e0-2a858728bce4",
   "metadata": {},
   "outputs": [],
   "source": [
    "def read_csv_from_known_subfolders(main_folder, subfolders):\n",
    "    csv_files = []\n",
    "\n",
    "    # Iterate through the specified subfolders\n",
    "    for subfolder in subfolders:\n",
    "        subfolder_path = os.path.join(main_folder, subfolder)\n",
    "        \n",
    "        # List all files in the subfolder\n",
    "        for file in os.listdir(subfolder_path):\n",
    "            if file.endswith('.csv'):\n",
    "                file_path = os.path.join(subfolder_path, file)  # Full path to the CSV file\n",
    "                # Read the CSV file, skipping first two rows and removing the first three columns\n",
    "                try:\n",
    "                    df = pd.read_csv(file_path, low_memory=False, skiprows=2)\n",
    "                    df = df.iloc[:, 3:]  # Remove the first three columns\n",
    "                    csv_files.append((file_path, df))\n",
    "                except pd.errors.EmptyDataError:\n",
    "                    print(f\"EmptyDataError: No data found in file: {file_path}\")\n",
    "    \n",
    "    return csv_files"
   ]
  },
  {
   "cell_type": "code",
   "execution_count": 25,
   "id": "4c6efa33-1534-470b-ad1c-20d21f3be912",
   "metadata": {},
   "outputs": [
    {
     "name": "stdout",
     "output_type": "stream",
     "text": [
      "EmptyDataError: No data found in file: C:\\Users\\khush\\OneDrive\\Desktop\\task1\\03MAY24\\RECOVERY\\info.csv\n",
      "EmptyDataError: No data found in file: C:\\Users\\khush\\OneDrive\\Desktop\\task1\\03MAY24\\RESTING\\info.csv\n",
      "EmptyDataError: No data found in file: C:\\Users\\khush\\OneDrive\\Desktop\\task1\\03MAY24\\TASK\\info.csv\n",
      "File: C:\\Users\\khush\\OneDrive\\Desktop\\task1\\03MAY24\\RECOVERY\\2024-05-03-16-23_stress emg study 1.csv\n",
      "         LT UPPER TRAP. (uV)  RT UPPER TRAP. (uV)  LT MIDDLE TRAP. (uV)  \\\n",
      "1261995           385.981354           -27.968889              9.446788   \n",
      "1261996           318.827454           -34.686813              7.311970   \n",
      "1261997           248.638534           -59.402607              2.731185   \n",
      "1261998           190.359085           -74.975098            -15.272163   \n",
      "1261999           146.716721           -58.497902            -38.772453   \n",
      "\n",
      "         RT MIDDLE TRAP. (uV)  LT LOWER TRAP. (uV)  \n",
      "1261995             -8.245357             9.712008  \n",
      "1261996            -10.076577             5.745001  \n",
      "1261997            -14.656251             2.692392  \n",
      "1261998            -17.401461            -0.050800  \n",
      "1261999            -17.096798            -0.969815  \n",
      "File: C:\\Users\\khush\\OneDrive\\Desktop\\task1\\03MAY24\\RESTING\\2024-05-03-15-48_stress emg study 1.csv\n",
      "         LT UPPER TRAP. (uV)  RT UPPER TRAP. (uV)  LT MIDDLE TRAP. (uV)  \\\n",
      "1219475           -87.924309            27.099171              8.214260   \n",
      "1219476           -80.896851            15.199072              9.132860   \n",
      "1219477           -72.355789             6.657444             10.355130   \n",
      "1219478           -64.112038            -0.059501              7.606921   \n",
      "1219479           -60.138821            -7.992900              2.110503   \n",
      "\n",
      "         RT MIDDLE TRAP. (uV)  LT LOWER TRAP. (uV)  \n",
      "1219475              2.473240             1.143974  \n",
      "1219476              0.032288             1.143974  \n",
      "1219477              0.641450             1.143974  \n",
      "1219478              3.999374             1.456855  \n",
      "1219479              5.831165             1.143974  \n",
      "File: C:\\Users\\khush\\OneDrive\\Desktop\\task1\\03MAY24\\TASK\\2024-05-03-16-00_stress emg study 1.csv\n",
      "         LT UPPER TRAP. (uV)  RT UPPER TRAP. (uV)  LT MIDDLE TRAP. (uV)  \\\n",
      "2641235           -50.896481            45.109299             -2.712487   \n",
      "2641236           -48.779522            45.707565             -4.556369   \n",
      "2641237           -50.300156            42.972633            -10.347073   \n",
      "2641238           -49.077686            43.280312            -13.699585   \n",
      "2641239           -45.410275            41.434235            -13.090037   \n",
      "\n",
      "         RT MIDDLE TRAP. (uV)  LT LOWER TRAP. (uV)  \n",
      "2641235              4.913341            -0.534168  \n",
      "2641236              0.030572            -2.367961  \n",
      "2641237             -3.633688             0.991240  \n",
      "2641238             -1.803742             2.819526  \n",
      "2641239              2.166237             0.071590  \n"
     ]
    }
   ],
   "source": [
    "# Specify the main folder path\n",
    "main_folder = r'C:\\Users\\khush\\OneDrive\\Desktop\\task1\\03MAY24'  # replace with your main folder path\n",
    "\n",
    "# List of subfolders (assuming you know their names)\n",
    "subfolders = ['RECOVERY', 'RESTING', 'TASK']  # replace with your subfolder names\n",
    "\n",
    "# Read CSV files\n",
    "csv_files = read_csv_from_known_subfolders(main_folder, subfolders)\n",
    "\n",
    "# Display the last part of each file\n",
    "for file_path, df in csv_files:\n",
    "    print(f\"File: {file_path}\")\n",
    "    print(df.tail())  # Display the last few rows of each DataFrame"
   ]
  }
 ],
 "metadata": {
  "kernelspec": {
   "display_name": "Python 3 (ipykernel)",
   "language": "python",
   "name": "python3"
  },
  "language_info": {
   "codemirror_mode": {
    "name": "ipython",
    "version": 3
   },
   "file_extension": ".py",
   "mimetype": "text/x-python",
   "name": "python",
   "nbconvert_exporter": "python",
   "pygments_lexer": "ipython3",
   "version": "3.11.5"
  }
 },
 "nbformat": 4,
 "nbformat_minor": 5
}
